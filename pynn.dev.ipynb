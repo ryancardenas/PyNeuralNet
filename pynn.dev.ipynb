{
 "cells": [
  {
   "cell_type": "code",
   "execution_count": 1,
   "metadata": {},
   "outputs": [],
   "source": [
    "import matplotlib.pyplot as plt\n",
    "import numpy as np\n",
    "from IPython.display import clear_output\n",
    "\n",
    "from ipywidgets import Output\n",
    "\n",
    "import pyneuralnet as pn"
   ]
  },
  {
   "cell_type": "code",
   "execution_count": 2,
   "metadata": {},
   "outputs": [],
   "source": [
    "def load_planar_dataset():\n",
    "    np.random.seed(1)\n",
    "    m = 400 # number of examples\n",
    "    N = int(m/2) # number of points per class\n",
    "    D = 2 # dimensionality\n",
    "    X = np.zeros((m,D)) # data matrix where each row is a single example\n",
    "    Y = np.zeros((m,1), dtype='uint8') # labels vector (0 for red, 1 for blue)\n",
    "    a = 4 # maximum ray of the flower\n",
    "\n",
    "    for j in range(2):\n",
    "        ix = range(N*j,N*(j+1))\n",
    "        t = np.linspace(j*3.12,(j+1)*3.12,N) + np.random.randn(N)*0.2 # theta\n",
    "        r = a*np.sin(4*t) + np.random.randn(N)*0.2 # radius\n",
    "        X[ix] = np.c_[r*np.sin(t), r*np.cos(t)]\n",
    "        Y[ix] = j\n",
    "        \n",
    "    X = X.T\n",
    "    Y = Y.T\n",
    "\n",
    "    return X, Y"
   ]
  },
  {
   "cell_type": "code",
   "execution_count": 3,
   "metadata": {},
   "outputs": [
    {
     "name": "stdout",
     "output_type": "stream",
     "text": [
      "(2, 400)\n",
      "(1, 400)\n"
     ]
    }
   ],
   "source": [
    "X, Y = load_planar_dataset()\n",
    "print(X.shape)\n",
    "print(Y.shape)"
   ]
  },
  {
   "cell_type": "code",
   "execution_count": null,
   "metadata": {
    "scrolled": true
   },
   "outputs": [
    {
     "name": "stdout",
     "output_type": "stream",
     "text": [
      "Progress: [############--------] 59.9%\n",
      "0.2520114453606289\n"
     ]
    }
   ],
   "source": [
    "np.random.seed(1)\n",
    "layout = ((4, 'tanh'),\n",
    "          (1, 'sigmoid'),\n",
    "         ) \n",
    "\n",
    "network = pn.buildNetwork(layout, X.shape[0])\n",
    "# network[0].W = np.array([[-4.18494482,  5.33220319],\n",
    "#  [-7.52989354,  1.24306197],\n",
    "#  [-4.19295428,  5.32631786],\n",
    "#  [ 7.52983748, -1.24309404]])\n",
    "# network[0].b = np.array([[ 2.32926815],\n",
    "#  [ 3.7945905 ],\n",
    "#  [ 2.33002544],\n",
    "#  [-3.79468791]])\n",
    "# network[1].W = np.array([[-6033.83672179, -6008.12981272, -6033.10095329,  6008.06636901]])\n",
    "# network[1].b = np.array([[-52.66607704]])\n",
    "\n",
    "num_iterations = 10000\n",
    "learning_rate = 1.2\n",
    "\n",
    "newtork, costs, accs = pn.gradientDescent(X, Y, network, num_iterations, learning_rate,\n",
    "                        costfunction='logistic', showprogress=True, showmsg=True,\n",
    "                                         debugmsg='cost')\n",
    "\n",
    "\n",
    "pn.plot2DBoundary(X, Y, network)\n",
    "H = pn.predict(X, network)\n",
    "acc, prec, rec = pn.evaluateModel(H, Y)\n",
    "print(acc, prec, rec)"
   ]
  },
  {
   "cell_type": "code",
   "execution_count": 34,
   "metadata": {
    "scrolled": true
   },
   "outputs": [
    {
     "data": {
      "text/plain": [
       "array([[-3.97133896e-001,  2.80218587e-001],\n",
       "       [ 7.18216551e-003, -4.66682881e-003],\n",
       "       [-2.87685484e+265,  2.68935228e+265],\n",
       "       [-2.63531565e+021, -1.18236693e+021]])"
      ]
     },
     "execution_count": 34,
     "metadata": {},
     "output_type": "execute_result"
    }
   ],
   "source": [
    "network[0].dW"
   ]
  },
  {
   "cell_type": "code",
   "execution_count": 31,
   "metadata": {},
   "outputs": [
    {
     "data": {
      "image/png": "[encoded data removed]",
      "text/plain": [
       "<Figure size 432x288 with 1 Axes>"
      ]
     },
     "metadata": {
      "needs_background": "light"
     },
     "output_type": "display_data"
    }
   ],
   "source": [
    "plt.plot(costs, label='cost')\n",
    "# plt.plot(accs, label='accuracy')\n",
    "plt.legend()\n",
    "plt.show()"
   ]
  },
  {
   "cell_type": "code",
   "execution_count": null,
   "metadata": {},
   "outputs": [],
   "source": [
    "model2 = np.copy(network)"
   ]
  },
  {
   "cell_type": "code",
   "execution_count": null,
   "metadata": {},
   "outputs": [],
   "source": [
    "#model, model2\n",
    "\n",
    "H = pn.predict(X, model)\n",
    "acc, prec, rec = evaluateModel(H, Y)\n",
    "print(acc, prec, rec)"
   ]
  },
  {
   "cell_type": "code",
   "execution_count": 1709,
   "metadata": {},
   "outputs": [
    {
     "name": "stdout",
     "output_type": "stream",
     "text": [
      "Layer 1: (4, 'tanh')\n",
      "Layer 2 \b: (1, 'sigmoid')\n",
      "Layer 1: (4, 'tanh')\n",
      "Layer 2 \b: (1, 'sigmoid')\n",
      "W: [[-0.00322417 -0.00384054]\n",
      " [ 0.01133769 -0.01099891]\n",
      " [-0.00172428 -0.00877858]\n",
      " [ 0.00042214  0.00582815]] \n",
      "b: [[0.]\n",
      " [0.]\n",
      " [0.]\n",
      " [0.]] \n",
      "Z: [[0.]\n",
      " [0.]\n",
      " [0.]\n",
      " [0.]] \n",
      "A: [[0.]\n",
      " [0.]\n",
      " [0.]\n",
      " [0.]] \n",
      "dW: [[0. 0.]\n",
      " [0. 0.]\n",
      " [0. 0.]\n",
      " [0. 0.]] \n",
      "db: [[0.]\n",
      " [0.]\n",
      " [0.]\n",
      " [0.]] \n",
      "dZ: [[0.]\n",
      " [0.]\n",
      " [0.]\n",
      " [0.]] \n",
      "dA: [[0.]\n",
      " [0.]\n",
      " [0.]\n",
      " [0.]]\n"
     ]
    }
   ],
   "source": [
    "np.random.seed(1)\n",
    "# layout = ((1, 'sigmoid'),\n",
    "#          )\n",
    "layout = ((4, 'tanh'),\n",
    "          (1, 'sigmoid'),\n",
    "         ) \n",
    "\n",
    "network = pn.buildNetwork(layout, X.shape[0])\n",
    "network[0].W *= 10\n",
    "network[1].W *= 10\n",
    "# X = np.array([[-0.2, 0.3, 0.8, 0.1]])\n",
    "# Y = np.array([[1, 0, 0, 1]])\n",
    "learning_rate = 1\n",
    "\n",
    "network = pn.buildNetwork(layout, X.shape[0])\n",
    "print('W:', network[0].W, '\\nb:', network[0].b,\n",
    "      '\\nZ:', network[0].Z, '\\nA:', network[0].A,\n",
    "     '\\ndW:', network[0].dW, '\\ndb:', network[0].db,\n",
    "      '\\ndZ:', network[0].dZ, '\\ndA:', network[0].dA)"
   ]
  },
  {
   "cell_type": "code",
   "execution_count": 2220,
   "metadata": {},
   "outputs": [
    {
     "name": "stdout",
     "output_type": "stream",
     "text": [
      "[[0.69063584]] 1.9764128596803994\n",
      "W: -0.8676774817485831 \n",
      "b: 0.110818162935905 \n",
      "Z: 0.7290702499939505 \n",
      "A: 0.6224962086793161 \n",
      "dW: 0.009031432318172767 \n",
      "db: -0.0013818535421705825 \n",
      "dZ: -0.002547195213888859 \n",
      "dA: -0.005437420187679496\n",
      "\n",
      "\n"
     ]
    }
   ],
   "source": [
    "pn.forwardprop(X, network)\n",
    "cost, grad = pn.computeCost(Y, network, costfunc='logistic')\n",
    "print(cost, grad[0, 0])\n",
    "pn.backprop(grad, X, network)\n",
    "print('W:', network[0].W[0, 0], '\\nb:', network[0].b[0, 0],\n",
    "  '\\nZ:', network[0].Z[0, 0], '\\nA:', network[0].A[0, 0],\n",
    " '\\ndW:', network[0].dW[0, 0], '\\ndb:', network[0].db[0, 0],\n",
    "  '\\ndZ:', network[0].dZ[0, 0], '\\ndA:', network[0].dA[0, 0])\n",
    "print('\\n')\n",
    "network[0].update(learning_rate)"
   ]
  },
  {
   "cell_type": "code",
   "execution_count": 15,
   "metadata": {},
   "outputs": [
    {
     "data": {
      "text/plain": [
       "0.499187828214304"
      ]
     },
     "execution_count": 15,
     "metadata": {},
     "output_type": "execute_result"
    }
   ],
   "source": [
    "pn.sigmoid(-0.00324869)"
   ]
  },
  {
   "cell_type": "code",
   "execution_count": 22,
   "metadata": {},
   "outputs": [
    {
     "name": "stdout",
     "output_type": "stream",
     "text": [
      "Epoch 0\n",
      "[[0.69559013]] [[-2.00325397  2.00488493  2.01307956 -1.99837697]]\n",
      "W: [[0.01624345]] \n",
      "b: [[0.]] \n",
      "Z: [[-0.00324869  0.00487304  0.01299476  0.00162435]] \n",
      "A: [[0.49918783 0.50121826 0.50324865 0.50040609]] \n",
      "dW: [[0.15079186]] \n",
      "db: [[0.0010152]] \n",
      "dZ: [[-0.50081217  0.50121826  0.50324865 -0.49959391]] \n",
      "dA: [[-2.00325397  2.00488493  2.01307956 -1.99837697]]\n",
      "\n",
      "\n",
      "Epoch 1\n",
      "[[0.6843615]] [[-1.98874097  1.98191224  1.95329623 -2.00644352]]\n",
      "W: [[-0.05915248]] \n",
      "b: [[-0.0005076]] \n",
      "Z: [[ 0.01132289 -0.01825334 -0.04782958 -0.00642285]] \n",
      "A: [[0.50283069 0.49543679 0.48804488 0.49839429]] \n",
      "dW: [[0.14708506]] \n",
      "db: [[-0.00382333]] \n",
      "dZ: [[-0.49716931  0.49543679  0.48804488 -0.50160571]] \n",
      "dA: [[-1.98874097  1.98191224  1.95329623 -2.00644352]]\n",
      "\n",
      "\n",
      "Epoch 2\n",
      "[[0.67366057]] [[-1.97244373  1.96232366  1.90054789 -2.01193611]]\n",
      "W: [[-0.13269501]] \n",
      "b: [[0.00140407]] \n",
      "Z: [[ 0.02794307 -0.03840444 -0.10475194 -0.01186544]] \n",
      "A: [[0.50698531 0.49040007 0.47383594 0.49703368]] \n",
      "dW: [[0.14362377]] \n",
      "db: [[-0.00793625]] \n",
      "dZ: [[-0.49301469  0.49040007  0.47383594 -0.50296632]] \n",
      "dA: [[-1.97244373  1.96232366  1.90054789 -2.01193611]]\n",
      "\n",
      "\n"
     ]
    }
   ],
   "source": [
    "for i in range(3):\n",
    "    print('Epoch', i)\n",
    "    pn.forwardprop(X, network)\n",
    "    cost, grad = pn.computeCost(Y, network, costfunc='logistic')\n",
    "    print(cost, grad)\n",
    "    pn.backprop(grad, X, network)\n",
    "    print('W:', network[0].W, '\\nb:', network[0].b,\n",
    "      '\\nZ:', network[0].Z, '\\nA:', network[0].A,\n",
    "     '\\ndW:', network[0].dW, '\\ndb:', network[0].db,\n",
    "      '\\ndZ:', network[0].dZ, '\\ndA:', network[0].dA)\n",
    "    print('\\n')\n",
    "    network[0].update(learning_rate)\n",
    " "
   ]
  },
  {
   "cell_type": "code",
   "execution_count": 25,
   "metadata": {},
   "outputs": [
    {
     "name": "stdout",
     "output_type": "stream",
     "text": [
      "[[0.00088456 0.00088456 0.00088453 0.00088456]]\n"
     ]
    }
   ],
   "source": [
    "a = np.array([[0.4990666,  0.50108108, 0.50309553, 0.50027529]])\n",
    "b = a * (1 - a) * 0.00353824\n",
    "print(b)"
   ]
  },
  {
   "cell_type": "markdown",
   "metadata": {},
   "source": [
    "## Gradient Checking Tool\n"
   ]
  },
  {
   "cell_type": "code",
   "execution_count": null,
   "metadata": {},
   "outputs": [],
   "source": [
    "def function(H, Y):\n",
    "    m = H.shape[1]\n",
    "    return -1 / m * (Y @ np.log(H.T) + (1 - Y) @ np.log(1 - H.T))\n",
    "\n",
    "def gradient(H, Y):\n",
    "    m = H.shape[1]\n",
    "    return 1 / m * np.sum(np.divide(-Y, H) + np.divide(1 - Y, 1 - H), keepdims=True)\n",
    "\n",
    "def function2(H, Y):\n",
    "    m = H.shape[1]\n",
    "    return -1 / m * np.sum(np.multiply(np.log(H), Y) + np.multiply((1 - Y), np.log(1 - H)), keepdims=True)\n",
    "\n",
    "def gradient2(H, Y):\n",
    "    m = H.shape[1]\n",
    "    return 1 / m * np.sum(np.divide((H - Y), H * (1 - H)), keepdims=True) \n",
    "\n",
    "np.random.seed(20)\n",
    "Z = np.random.rand(1, 3)\n",
    "print('Input\\n', Z, '\\n')\n",
    "\n",
    "Y = np.array([[0, 1, 1]])\n",
    "print('Correct Answer\\n', Y, '\\n')\n",
    "\n",
    "A = function(Z, Y)\n",
    "print('Output\\n', A, '\\n')\n",
    "A = function2(Z, Y)\n",
    "print('Output 2\\n', A, '\\n')\n",
    "\n",
    "dAdZ = gradient(Z, Y)\n",
    "print('Gradient\\n', dAdZ, '\\n')\n",
    "\n",
    "eps = 1e-5\n",
    "plus = function(Z + eps, Y)\n",
    "minus = function(Z - eps, Y)\n",
    "dAdZ_check = (plus - minus) / (2 * eps)\n",
    "print('Gradient Check\\n', dAdZ_check)\n",
    "\n",
    "\n",
    "dAdZ = gradient2(Z, Y)\n",
    "print('\\nGradient 2\\n', dAdZ, '\\n')\n",
    "\n",
    "eps = 1e-5\n",
    "plus = function2(Z + eps, Y)\n",
    "minus = function2(Z - eps, Y)\n",
    "dAdZ_check = (plus - minus) / (2 * eps)\n",
    "print('Gradient 2 Check\\n', dAdZ_check)"
   ]
  },
  {
   "cell_type": "code",
   "execution_count": null,
   "metadata": {},
   "outputs": [],
   "source": [
    "Z"
   ]
  },
  {
   "cell_type": "markdown",
   "metadata": {},
   "source": [
    "## Make fake data"
   ]
  },
  {
   "cell_type": "code",
   "execution_count": null,
   "metadata": {},
   "outputs": [],
   "source": [
    "import csv\n",
    "\n",
    "f = 'tests/linear3.csv'\n",
    "\n",
    "def makeFakeData_LinearBoundary(f):\n",
    "\n",
    "    b = 0.23\n",
    "    a1 = 0.1\n",
    "    a2 = 0.5\n",
    "\n",
    "    with open(f, 'w') as csvFile:\n",
    "        writer = csv.writer(csvFile)\n",
    "        for i in range(50):\n",
    "            for j in range(20):\n",
    "                x1 = round(float(np.random.randn(1)), 2)\n",
    "                x2 = round(float(np.random.randn(1)), 2)\n",
    "                y = 1*((a2*x2) > (a1*x1 + b)) \n",
    "                inp = [x1, x2, y]\n",
    "#                 print(inp)\n",
    "                writer.writerow(inp)\n",
    "\n",
    "    csvFile.close()\n",
    "\n",
    "makeFakeData_LinearBoundary(f)"
   ]
  },
  {
   "cell_type": "code",
   "execution_count": null,
   "metadata": {},
   "outputs": [],
   "source": [
    "np.where()"
   ]
  },
  {
   "cell_type": "code",
   "execution_count": null,
   "metadata": {},
   "outputs": [],
   "source": [
    "a = [[2, 3, 4], [2, 1, 4]]\n",
    "print(*a)"
   ]
  },
  {
   "cell_type": "markdown",
   "metadata": {},
   "source": [
    "## Function testing"
   ]
  },
  {
   "cell_type": "code",
   "execution_count": 14,
   "metadata": {},
   "outputs": [
    {
     "name": "stdout",
     "output_type": "stream",
     "text": [
      "[[0.69311725]] [[0.69311725]]\n",
      "[[-4.56464692e-06]] [[-4.56464692e-06]] [[-4.56464692e-06]] [[-4.56464692e-06]]\n",
      "\n",
      "\n",
      "Cost Times: 0.0 0.0\n",
      "Grad Times: 0.0 0.0 0.0 0.0\n"
     ]
    }
   ],
   "source": [
    "import time\n",
    "H = network[-1].A\n",
    "m = Y.shape[1]\n",
    "Y = Y.astype('float32')\n",
    "\n",
    "start = time.time()\n",
    "J1 = -1 / m * (Y @ np.log(H.T) + (1 - Y) @ np.log(1 - H.T))\n",
    "d1 = time.time() - start\n",
    "\n",
    "start = time.time()\n",
    "J2 = -1 / m * np.sum(np.multiply(Y, np.log(H)) + np.multiply((1 - Y), np.log(1 - H)), keepdims=True)\n",
    "d2 = time.time() - start\n",
    "\n",
    "start = time.time()\n",
    "grad1 = 1 / m * np.sum(np.divide(-Y, H) + np.divide(1 - Y, 1 - H), keepdims=True)\n",
    "g1 = time.time() - start\n",
    "\n",
    "start = time.time()\n",
    "grad2 = 1 / m * np.sum(np.divide((H - Y), np.multiply(H, (1 - H))), keepdims=True)\n",
    "g2 = time.time() - start\n",
    "\n",
    "start = time.time()\n",
    "grad3 = 1 / m * np.sum((-Y / H) + (1 - Y) / (1 - H), keepdims=True)\n",
    "g3 = time.time() - start\n",
    "\n",
    "start = time.time()\n",
    "grad4 = 1 / m * np.sum((H - Y) / (H * (1 - H)), keepdims=True)\n",
    "g4 = time.time() - start\n",
    "\n",
    "print(J1, J2)\n",
    "print(grad1, grad2, grad3, grad4)\n",
    "print('\\n\\nCost Times:', d1, d2)\n",
    "print('Grad Times:', g1, g2, g3, g4)"
   ]
  },
  {
   "cell_type": "code",
   "execution_count": null,
   "metadata": {},
   "outputs": [],
   "source": [
    "h = np.array([[1, 0, 1, 0, 1]])\n",
    "y = np.array([[1, 1, 0, 0, 0]])\n",
    "a, p, r = evaluateModel(h, y)\n",
    "print(a, '\\n\\n', p, '\\n\\n', r)"
   ]
  },
  {
   "cell_type": "code",
   "execution_count": null,
   "metadata": {},
   "outputs": [],
   "source": [
    "np.random.seed(1)\n",
    "layout = ((1, 'sigmoid'),) \n",
    "x = np.random.rand(1,1)\n",
    "y = np.array([[1]])\n",
    "print(x)\n",
    "\n",
    "network = buildNetwork(layout, x.shape[0])"
   ]
  }
 ],
 "metadata": {
  "kernelspec": {
   "display_name": "Python 3",
   "language": "python",
   "name": "python3"
  },
  "language_info": {
   "codemirror_mode": {
    "name": "ipython",
    "version": 3
   },
   "file_extension": ".py",
   "mimetype": "text/x-python",
   "name": "python",
   "nbconvert_exporter": "python",
   "pygments_lexer": "ipython3",
   "version": "3.6.8"
  }
 },
 "nbformat": 4,
 "nbformat_minor": 2
}
