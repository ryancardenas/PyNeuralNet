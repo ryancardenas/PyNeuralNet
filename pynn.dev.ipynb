{
 "cells": [
  {
   "cell_type": "code",
   "execution_count": 68,
   "metadata": {},
   "outputs": [],
   "source": [
    "import matplotlib.pyplot as plt\n",
    "import numpy as np\n",
    "from IPython.display import clear_output\n",
    "\n",
    "from ipywidgets import Output\n",
    "\n",
    "import pyneuralnet as pnn"
   ]
  },
  {
   "cell_type": "code",
   "execution_count": 30,
   "metadata": {},
   "outputs": [],
   "source": [
    "class Layer(object):\n",
    "    def __init__(self, num_prev, num_neurons, activation_function='sigmoid'):\n",
    "        '''\n",
    "        Initialize weights randomly with He scaling.\n",
    "        \n",
    "        self.A -- [num_neurons, 1] Array of activations\n",
    "        self.Z -- [num_neurons, 1] Array of linearly aggregated inputs\n",
    "        self.W -- [num_neurons, num_prev] Array of weights applied to previous layer's activations A.\n",
    "        self.b -- [num_neurons, 1] Array of biases\n",
    "        ''' \n",
    "        self.n = num_neurons\n",
    "        self.act = activation_function  \n",
    "        \n",
    "        self.A = np.zeros((num_neurons,1))\n",
    "        self.Z = np.zeros((num_neurons,1))\n",
    "        self.b = np.zeros((self.n,1))\n",
    "        \n",
    "        # He initialization.\n",
    "        if self.act == 'sigmoid':\n",
    "            self.W = np.random.randn(num_neurons, num_prev) * np.sqrt(2.0/num_prev) / 5\n",
    "        \n",
    "    def forward(self, A_prev):\n",
    "        '''\n",
    "        Description:\n",
    "        Perform forward pass by computing Z, then A.\n",
    "        \n",
    "        Parameters:\n",
    "        A_prev -- [num_prev, m_samples] Array of activations from previous layer.\n",
    "        \n",
    "        Computes:\n",
    "        self.A -- [self.n, m_samples] Array of activations for this layer.\n",
    "        '''\n",
    "        self.Z = self.W @ A_prev + self.b\n",
    "        \n",
    "        if self.act == 'linear':\n",
    "            self.A = self.Z\n",
    "            \n",
    "        elif self.act == 'sigmoid':\n",
    "            self.A = 1 / (1 + np.exp(-self.Z))\n",
    "        \n",
    "        return self.A\n",
    "    \n",
    "    def backward(self, W_next, dZ_next, A_prev):\n",
    "        '''\n",
    "        Description:\n",
    "        Compute dA first, then dZ, then dW and db.\n",
    "        \n",
    "        Parameters:\n",
    "        W_next -- [num_next, self.n] Array of weights between this layer and next layer.\n",
    "        dZ_next -- [num_next, m_samples] Array of linear inputs to next layer.\n",
    "        A_prev -- [num_prev,m_samples] Array of activations from previous layer.\n",
    "        \n",
    "        Computes:\n",
    "        self.dA -- [self.n, m_samples] Gradient of cost w.r.t. activations.\n",
    "        self.dZ -- [self.n, m_samples] Gradient of cost w.r.t. linear inputs.\n",
    "        self.dW -- [self.n, num_prev] Gradient of cost w.r.t. weights.\n",
    "        self.db -- [self.n, 1] Gradient of cost w.r.t. biases.\n",
    "        '''        \n",
    "        m = self.A.shape[1]\n",
    "        self.dA = W_next.T @ dZ_next\n",
    "        \n",
    "        if self.act == 'linear':\n",
    "            self.dZ = self.dA\n",
    "            \n",
    "        elif self.act == 'sigmoid':\n",
    "            self.dZ = self.A * (1 - self.A) * self.dA\n",
    "            \n",
    "        self.dW = 1 / m * self.dZ @ A_prev.T\n",
    "        self.db = 1 / m * np.sum(self.dZ, axis=1, keepdims=True)\n",
    "        \n",
    "    def update(self, learning_rate):\n",
    "        self.W = self.W - learning_rate * self.dW\n",
    "        self.b = self.b - learning_rate * self.db\n",
    "\n",
    "\n",
    "    \n",
    "def backprop(grad, X, network):\n",
    "    L = len(network)\n",
    "    W_output = np.eye(Y.shape[0], Y.shape[0])\n",
    "    \n",
    "#     print('Layer', L-1, 'backprop successful')\n",
    "    network[L-1].backward(W_output, grad, network[L-2].A)\n",
    "    \n",
    "    for i in reversed(range(0, L - 1)):\n",
    "#         print('Layer', i, 'backprop successful')\n",
    "        W_next = network[i+1].W\n",
    "        dZ_next = network[i+1].dZ\n",
    "        if i == 0:\n",
    "            A_prev = X\n",
    "        else:\n",
    "            A_prev = network[i-1].A\n",
    "        network[i].backward(W_next, dZ_next, A_prev)\n",
    "\n",
    "    return network\n",
    "    \n",
    "    \n",
    "def gradientDescent(X, Y, network, num_iterations, learning_rate,\n",
    "                    costfunction='logistic', showprogress='True',\n",
    "                    showpreds='False'):\n",
    "    L = len(network)\n",
    "    costs = np.zeros((num_iterations))\n",
    "    accs = np.zeros((num_iterations)) \n",
    "        \n",
    "    for epoch in range(num_iterations):\n",
    "        network = forwardprop(X, network)\n",
    "        H = predict(X, network)\n",
    "        costs[epoch], grad = computeCost(Y, network, costfunc=costfunction)\n",
    "        accs[epoch], prec, rec = evaluateModel(H, Y)\n",
    "        \n",
    "        network = backprop(grad, X, network)\n",
    "        \n",
    "        # Perform one step of gradient descent\n",
    "        for i in range(0, L):\n",
    "            network[i].update(learning_rate)\n",
    "        \n",
    "        if showprogress == 'True':     \n",
    "            if showpreds == 'True':\n",
    "                msg = H\n",
    "            else: msg = ''\n",
    "            update_progress(epoch/num_iterations, str(msg))\n",
    "           \n",
    "        \n",
    "    if showprogress == 'True':\n",
    "        update_progress(1)   \n",
    "        \n",
    "        \n",
    "    return network, costs, accs\n",
    "\n",
    "\n",
    "\n",
    "def evaluateModel(H, Y):\n",
    "    k = Y.shape[0]\n",
    "    eps = 1e-8\n",
    "    \n",
    "    tp = np.sum(np.logical_and(H, Y))\n",
    "    fp = np.sum(np.logical_and(H, Y==0))\n",
    "    tn = np.sum(np.logical_and(H==0, Y==0))\n",
    "    fn = np.sum(np.logical_and(H==0, Y))\n",
    "\n",
    "    accuracy = np.sum(H==Y) / k\n",
    "    precision = tp / (tp + fp + eps)\n",
    "    recall = tp / (tp + fn + eps)\n",
    "\n",
    "    return accuracy, precision, recall\n",
    "\n",
    "\n",
    "def plot2DBoundary(X, Y, network):\n",
    "    delta = 0.01\n",
    "    x1_min, x1_max = X[0, :].min() - 1, X[0, :].max() + 1\n",
    "    x2_min, x2_max = X[1, :].min() - 1, X[1, :].max() + 1\n",
    "    x1 = np.arange(x1_min, x1_max, delta)\n",
    "    x2 = np.arange(x2_min, x2_max, delta)\n",
    "    a, b = np.meshgrid(x1, x2)\n",
    "    \n",
    "    c = np.c_[a.ravel(), b.ravel()].T\n",
    "    Z = predict(c, network)\n",
    "    Z = Z.reshape(a.shape)\n",
    "\n",
    "    plt.scatter(X[[0], :], X[[1], :], c=Y.astype('uint8'), s=10, marker='.')\n",
    "    plt.contour(a, b, Z, colors='black')\n",
    "    plt.show()"
   ]
  },
  {
   "cell_type": "code",
   "execution_count": 31,
   "metadata": {
    "scrolled": true
   },
   "outputs": [
    {
     "name": "stdout",
     "output_type": "stream",
     "text": [
      "(2, 1000) (1, 1000)\n"
     ]
    }
   ],
   "source": [
    "filename = 'tests/linear3.csv'\n",
    "X, Y = loadCSVData(filename, skiprow=0)\n",
    "X = X.T\n",
    "Y = Y.T\n",
    "print(X.shape, Y.shape)"
   ]
  },
  {
   "cell_type": "code",
   "execution_count": 66,
   "metadata": {},
   "outputs": [
    {
     "name": "stdout",
     "output_type": "stream",
     "text": [
      "Progress: [####################] 100.0%\n",
      "\n"
     ]
    },
    {
     "data": {
      "image/png": "[encoded data removed]",
      "text/plain": [
       "<Figure size 432x288 with 1 Axes>"
      ]
     },
     "metadata": {
      "needs_background": "light"
     },
     "output_type": "display_data"
    },
    {
     "name": "stdout",
     "output_type": "stream",
     "text": [
      "0.767 0.807692307682894 0.9106438896069561\n"
     ]
    }
   ],
   "source": [
    "layout = ((1, 'sigmoid'),) \n",
    "\n",
    "network = buildNetwork(layout, X.shape[0])\n",
    "\n",
    "num_iterations = 1000\n",
    "learning_rate = 0.01\n",
    "newtork, costs, accs = gradientDescent(X, Y, network, num_iterations, learning_rate,\n",
    "                        costfunction='logistic', showprogress='True')\n",
    "\n",
    "\n",
    "plot2DBoundary(X, Y, network)\n",
    "H = predict(X, network)\n",
    "acc, prec, rec = evaluateModel(H, Y)\n",
    "print(acc, prec, rec)"
   ]
  },
  {
   "cell_type": "code",
   "execution_count": 67,
   "metadata": {},
   "outputs": [
    {
     "data": {
      "image/png": "[encoded data removed]",
      "text/plain": [
       "<Figure size 432x288 with 1 Axes>"
      ]
     },
     "metadata": {
      "needs_background": "light"
     },
     "output_type": "display_data"
    }
   ],
   "source": [
    "plt.plot(costs, label='cost')\n",
    "plt.plot(accs, label='accuracy')\n",
    "plt.legend()\n",
    "plt.show()"
   ]
  },
  {
   "cell_type": "markdown",
   "metadata": {},
   "source": [
    "## Gradient Checking Tool\n"
   ]
  },
  {
   "cell_type": "code",
   "execution_count": null,
   "metadata": {},
   "outputs": [],
   "source": [
    "def function(H, Y):\n",
    "    m = H.shape[1]\n",
    "    return -1 / m * (Y @ np.log(H.T) + (1 - Y) @ np.log(1 - H.T))\n",
    "\n",
    "def gradient(H, Y):\n",
    "    m = H.shape[1]\n",
    "    return 1 / m * np.sum(np.divide(-Y, H) + np.divide(1 - Y, 1 - H), keepdims=True)\n",
    "\n",
    "np.random.seed(20)\n",
    "Z = np.random.rand(1, 3)\n",
    "print('Input\\n', Z, '\\n')\n",
    "\n",
    "Y = np.array([[0, 1, 1]])\n",
    "print('Correct Answer\\n', Y, '\\n')\n",
    "\n",
    "A = function(Z, Y)\n",
    "print('Output\\n', A, '\\n')\n",
    "\n",
    "dAdZ = gradient(Z, Y)\n",
    "print('Gradient\\n', dAdZ, '\\n')\n",
    "\n",
    "eps = 1e-5\n",
    "plus = function(Z + eps, Y)\n",
    "minus = function(Z - eps, Y)\n",
    "dAdZ_check = (plus - minus) / (2 * eps)\n",
    "print('Gradient Check\\n', dAdZ_check)"
   ]
  },
  {
   "cell_type": "code",
   "execution_count": null,
   "metadata": {},
   "outputs": [],
   "source": [
    "Z"
   ]
  },
  {
   "cell_type": "markdown",
   "metadata": {},
   "source": [
    "## Make fake data"
   ]
  },
  {
   "cell_type": "code",
   "execution_count": null,
   "metadata": {
    "scrolled": true
   },
   "outputs": [],
   "source": [
    "import csv\n",
    "\n",
    "f = 'tests/linear3.csv'\n",
    "\n",
    "def makeFakeData_LinearBoundary(f):\n",
    "\n",
    "    b = round(float(np.random.randn(1)), 2)\n",
    "    a1 = 0.1\n",
    "    a2 = 0.5\n",
    "\n",
    "    with open(f, 'w') as csvFile:\n",
    "        writer = csv.writer(csvFile)\n",
    "        for i in range(50):\n",
    "            for j in range(20):\n",
    "                x1 = round(float(np.random.randn(1)), 2)\n",
    "                x2 = round(float(np.random.randn(1)), 2)\n",
    "                y = 1*((a2*x2) > (a1*x1 + b)) \n",
    "                inp = [x1, x2, y]\n",
    "                print(inp)\n",
    "                writer.writerow(inp)\n",
    "\n",
    "    csvFile.close()\n",
    "\n",
    "makeFakeData_LinearBoundary(f)"
   ]
  },
  {
   "cell_type": "code",
   "execution_count": null,
   "metadata": {},
   "outputs": [],
   "source": [
    "np.where()"
   ]
  },
  {
   "cell_type": "code",
   "execution_count": 52,
   "metadata": {},
   "outputs": [
    {
     "name": "stdout",
     "output_type": "stream",
     "text": [
      "[2, 3, 4] [2, 1, 4]\n"
     ]
    }
   ],
   "source": [
    "a = [[2, 3, 4], [2, 1, 4]]\n",
    "print(*a)"
   ]
  },
  {
   "cell_type": "markdown",
   "metadata": {},
   "source": [
    "## Function testing"
   ]
  },
  {
   "cell_type": "code",
   "execution_count": 83,
   "metadata": {},
   "outputs": [],
   "source": [
    "def evaluateModel(H, Y, decimal=3):\n",
    "    k = Y.shape[0]\n",
    "    eps = 1e-8\n",
    "    \n",
    "    tp = np.sum(np.logical_and(H, Y))\n",
    "    fp = np.sum(np.logical_and(H, Y==0))\n",
    "    tn = np.sum(np.logical_and(H==0, Y==0))\n",
    "    fn = np.sum(np.logical_and(H==0, Y))\n",
    "\n",
    "    accuracy = round(np.sum(H==Y) / k, decimal)\n",
    "    precision = round(tp / (tp + fp + eps), decimal)\n",
    "    recall = round(tp / (tp + fn + eps), decimal)\n",
    "\n",
    "    return accuracy, precision, recall"
   ]
  },
  {
   "cell_type": "code",
   "execution_count": 84,
   "metadata": {},
   "outputs": [
    {
     "name": "stdout",
     "output_type": "stream",
     "text": [
      "0.4 0.33333333 0.5\n"
     ]
    }
   ],
   "source": [
    "h = np.array([[1],\n",
    "             [1],\n",
    "             [0],\n",
    "             [1],\n",
    "             [0]\n",
    "             ])\n",
    "\n",
    "y = np.array([[1],\n",
    "             [0],\n",
    "             [0],\n",
    "             [0],\n",
    "             [1]])\n",
    "\n",
    "acc, prec, rec = evaluateModel(h, y, decimal=8)\n",
    "\n",
    "print(acc, prec, rec)"
   ]
  },
  {
   "cell_type": "code",
   "execution_count": null,
   "metadata": {},
   "outputs": [],
   "source": []
  }
 ],
 "metadata": {
  "kernelspec": {
   "display_name": "Python 3",
   "language": "python",
   "name": "python3"
  },
  "language_info": {
   "codemirror_mode": {
    "name": "ipython",
    "version": 3
   },
   "file_extension": ".py",
   "mimetype": "text/x-python",
   "name": "python",
   "nbconvert_exporter": "python",
   "pygments_lexer": "ipython3",
   "version": "3.6.8"
  }
 },
 "nbformat": 4,
 "nbformat_minor": 2
}
