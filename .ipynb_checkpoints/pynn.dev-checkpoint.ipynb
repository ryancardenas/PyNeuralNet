{
 "cells": [
  {
   "cell_type": "code",
   "execution_count": 1,
   "metadata": {},
   "outputs": [],
   "source": [
    "import matplotlib.pyplot as plt\n",
    "import numpy as np\n",
    "from IPython.display import clear_output\n",
    "\n",
    "from ipywidgets import Output\n",
    "\n",
    "import pyneuralnet as pn\n",
    "import datamaker.py as dm\n"
   ]
  },
  {
   "cell_type": "code",
   "execution_count": 3,
   "metadata": {},
   "outputs": [
    {
     "name": "stdout",
     "output_type": "stream",
     "text": [
      "(2, 400)\n",
      "(1, 400)\n"
     ]
    }
   ],
   "source": [
    "X, Y = dm.load_planar_dataset()\n",
    "print(X.shape)\n",
    "print(Y.shape)"
   ]
  },
  {
   "cell_type": "code",
   "execution_count": 4,
   "metadata": {
    "scrolled": false
   },
   "outputs": [
    {
     "name": "stdout",
     "output_type": "stream",
     "text": [
      "Progress: [####################] 100.0%\n",
      "\n"
     ]
    },
    {
     "data": {
      "image/png": "[encoded data removed]",
      "text/plain": [
       "<Figure size 432x288 with 1 Axes>"
      ]
     },
     "metadata": {
      "needs_background": "light"
     },
     "output_type": "display_data"
    },
    {
     "name": "stdout",
     "output_type": "stream",
     "text": [
      "[[0.918]] [[0.915]] [[0.92]]\n"
     ]
    }
   ],
   "source": [
    "np.random.seed(2)\n",
    "layout = ((4, 'tanh'),\n",
    "          (1, 'sigmoid'),\n",
    "         ) \n",
    "\n",
    "network = pn.buildNetwork(layout, X.shape[0])\n",
    "\n",
    "num_iterations = 10000\n",
    "learning_rate = 1.2\n",
    "\n",
    "newtork, costs, accs = pn.gradientDescent(X, Y, network, num_iterations, learning_rate,\n",
    "                        costfunction='logistic', showprogress=True, debugmsg='cost')\n",
    "\n",
    "\n",
    "pn.plot2DBoundary(X, Y, network)\n",
    "H = pn.predict(X, network)\n",
    "acc, prec, rec = pn.evaluateModel(H, Y)\n",
    "print(acc, prec, rec)"
   ]
  },
  {
   "cell_type": "code",
   "execution_count": 36,
   "metadata": {},
   "outputs": [
    {
     "data": {
      "image/png": "[encoded data removed]",
      "text/plain": [
       "<Figure size 360x360 with 2 Axes>"
      ]
     },
     "metadata": {
      "needs_background": "light"
     },
     "output_type": "display_data"
    }
   ],
   "source": [
    "plt.subplot(211)\n",
    "plt.plot(costs, label='cost')\n",
    "plt.title('cost')\n",
    "\n",
    "plt.subplot(212)\n",
    "plt.plot(accs, label='accuracy')\n",
    "plt.title('accuracy')\n",
    "\n",
    "plt.tight_layout()\n",
    "plt.show()"
   ]
  },
  {
   "cell_type": "markdown",
   "metadata": {},
   "source": [
    "## Gradient Checking Tool\n"
   ]
  },
  {
   "cell_type": "code",
   "execution_count": null,
   "metadata": {},
   "outputs": [],
   "source": [
    "def function(H, Y):\n",
    "    m = H.shape[1]\n",
    "    return -1 / m * (Y @ np.log(H.T) + (1 - Y) @ np.log(1 - H.T))\n",
    "\n",
    "def gradient(H, Y):\n",
    "    m = H.shape[1]\n",
    "    return 1 / m * np.sum(np.divide(-Y, H) + np.divide(1 - Y, 1 - H), keepdims=True)\n",
    "\n",
    "def function2(H, Y):\n",
    "    m = H.shape[1]\n",
    "    return -1 / m * np.sum(np.multiply(np.log(H), Y) + np.multiply((1 - Y), np.log(1 - H)), keepdims=True)\n",
    "\n",
    "def gradient2(H, Y):\n",
    "    m = H.shape[1]\n",
    "    return 1 / m * np.sum(np.divide((H - Y), H * (1 - H)), keepdims=True) \n",
    "\n",
    "np.random.seed(20)\n",
    "Z = np.random.rand(1, 3)\n",
    "print('Input\\n', Z, '\\n')\n",
    "\n",
    "Y = np.array([[0, 1, 1]])\n",
    "print('Correct Answer\\n', Y, '\\n')\n",
    "\n",
    "A = function(Z, Y)\n",
    "print('Output\\n', A, '\\n')\n",
    "A = function2(Z, Y)\n",
    "print('Output 2\\n', A, '\\n')\n",
    "\n",
    "dAdZ = gradient(Z, Y)\n",
    "print('Gradient\\n', dAdZ, '\\n')\n",
    "\n",
    "eps = 1e-5\n",
    "plus = function(Z + eps, Y)\n",
    "minus = function(Z - eps, Y)\n",
    "dAdZ_check = (plus - minus) / (2 * eps)\n",
    "print('Gradient Check\\n', dAdZ_check)\n",
    "\n",
    "\n",
    "dAdZ = gradient2(Z, Y)\n",
    "print('\\nGradient 2\\n', dAdZ, '\\n')\n",
    "\n",
    "eps = 1e-5\n",
    "plus = function2(Z + eps, Y)\n",
    "minus = function2(Z - eps, Y)\n",
    "dAdZ_check = (plus - minus) / (2 * eps)\n",
    "print('Gradient 2 Check\\n', dAdZ_check)"
   ]
  },
  {
   "cell_type": "code",
   "execution_count": null,
   "metadata": {},
   "outputs": [],
   "source": [
    "Z"
   ]
  },
  {
   "cell_type": "markdown",
   "metadata": {},
   "source": [
    "## Make fake data"
   ]
  },
  {
   "cell_type": "code",
   "execution_count": null,
   "metadata": {},
   "outputs": [],
   "source": [
    "import csv\n",
    "\n",
    "f = 'tests/linear3.csv'\n",
    "\n",
    "def makeFakeData_LinearBoundary(f):\n",
    "\n",
    "    b = 0.23\n",
    "    a1 = 0.1\n",
    "    a2 = 0.5\n",
    "\n",
    "    with open(f, 'w') as csvFile:\n",
    "        writer = csv.writer(csvFile)\n",
    "        for i in range(50):\n",
    "            for j in range(20):\n",
    "                x1 = round(float(np.random.randn(1)), 2)\n",
    "                x2 = round(float(np.random.randn(1)), 2)\n",
    "                y = 1*((a2*x2) > (a1*x1 + b)) \n",
    "                inp = [x1, x2, y]\n",
    "#                 print(inp)\n",
    "                writer.writerow(inp)\n",
    "\n",
    "    csvFile.close()\n",
    "\n",
    "makeFakeData_LinearBoundary(f)"
   ]
  },
  {
   "cell_type": "code",
   "execution_count": null,
   "metadata": {},
   "outputs": [],
   "source": [
    "np.where()"
   ]
  },
  {
   "cell_type": "code",
   "execution_count": null,
   "metadata": {},
   "outputs": [],
   "source": [
    "a = [[2, 3, 4], [2, 1, 4]]\n",
    "print(*a)"
   ]
  },
  {
   "cell_type": "markdown",
   "metadata": {},
   "source": [
    "## Function testing"
   ]
  },
  {
   "cell_type": "code",
   "execution_count": 20,
   "metadata": {},
   "outputs": [
    {
     "data": {
      "image/png": "[encoded data removed]",
      "text/plain": [
       "<Figure size 432x288 with 3 Axes>"
      ]
     },
     "metadata": {
      "needs_background": "light"
     },
     "output_type": "display_data"
    }
   ],
   "source": [
    "def f(t):\n",
    "    return np.exp(-t) * np.cos(2*np.pi*t)\n",
    "\n",
    "\n",
    "t1 = np.arange(0.0, 3.0, 0.01)\n",
    "\n",
    "ax1 = plt.subplot(212)\n",
    "ax1.margins(0.05)           # Default margin is 0.05, value 0 means fit\n",
    "ax1.plot(t1, f(t1))\n",
    "\n",
    "ax2 = plt.subplot(221)\n",
    "ax2.margins(2, 2)           # Values >0.0 zoom out\n",
    "ax2.plot(t1, f(t1))\n",
    "ax2.set_title('Zoomed out')\n",
    "\n",
    "ax3 = plt.subplot(222)\n",
    "ax3.margins(x=0, y=-0.25)   # Values in (-0.5, 0.0) zooms in to center\n",
    "ax3.plot(t1, f(t1))\n",
    "ax3.set_title('Zoomed in')\n",
    "\n",
    "plt.show()"
   ]
  },
  {
   "cell_type": "code",
   "execution_count": null,
   "metadata": {},
   "outputs": [],
   "source": []
  }
 ],
 "metadata": {
  "kernelspec": {
   "display_name": "Python 3",
   "language": "python",
   "name": "python3"
  },
  "language_info": {
   "codemirror_mode": {
    "name": "ipython",
    "version": 3
   },
   "file_extension": ".py",
   "mimetype": "text/x-python",
   "name": "python",
   "nbconvert_exporter": "python",
   "pygments_lexer": "ipython3",
   "version": "3.6.8"
  }
 },
 "nbformat": 4,
 "nbformat_minor": 2
}
