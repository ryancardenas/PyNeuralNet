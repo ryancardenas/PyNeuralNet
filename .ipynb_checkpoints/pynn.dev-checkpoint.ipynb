{
 "cells": [
  {
   "cell_type": "code",
   "execution_count": 1,
   "metadata": {},
   "outputs": [],
   "source": [
    "import numpy as np\n",
    "from IPython.display import clear_output"
   ]
  },
  {
   "cell_type": "code",
   "execution_count": 2,
   "metadata": {},
   "outputs": [],
   "source": [
    "def loadCSVData(filename, labelcol=-1, usecols=None):\n",
    "    '''\n",
    "    DESCRIPTION:\n",
    "    Loads data from CSV file into two arrays: one containing features and the other\n",
    "    containing labels.\n",
    "    \n",
    "    DEPENDENCIES:\n",
    "    numpy as np\n",
    "    \n",
    "    PARAMETERS:\n",
    "    filename -- (str) Location of CSV file to be processed.\n",
    "    labelcol -- (int) Index of column containing labels.\n",
    "    usecols -- (int, tuple) Indices of columns to be extracted from CSV.\n",
    "    \n",
    "    RETURNS:\n",
    "    xdat -- [m,n](numpy array) Feature data.\n",
    "    ydat -- [n,p](numpy array) Label data.\n",
    "    '''\n",
    "    data = np.loadtxt(filename, delimiter=',', skiprows=1, usecols=usecols)\n",
    "    np.random.shuffle(data)\n",
    "\n",
    "    xdat = np.copy(data[:])\n",
    "    xdat = np.delete(xdat, labelcol, axis=1)\n",
    "    ydat = np.copy(data[:,labelcol])\n",
    "    m = np.shape(ydat)[0]\n",
    "    ydat = ydat.reshape(m,1)\n",
    "    \n",
    "    return xdat, ydat\n",
    "        \n",
    "\n",
    "def update_progress(progress, msg=''):\n",
    "# Dependencies: IPython.display.clear_output\n",
    "    bar_length = 20\n",
    "    if isinstance(progress, int):\n",
    "        progress = float(progress)\n",
    "    if not isinstance(progress, float):\n",
    "        progress = 0\n",
    "    if progress < 0:\n",
    "        progress = 0\n",
    "    if progress >= 1:\n",
    "        progress = 1\n",
    "\n",
    "    block = int(round(bar_length * progress))\n",
    "\n",
    "    clear_output(wait = True)\n",
    "    text = \"Progress: [{0}] {1:.1f}%\".format( \"#\" * block + \"-\" * (bar_length - block), progress * 100)\n",
    "    text += \"\\n\" + msg\n",
    "    print(text)\n",
    "\n",
    "\n",
    "def arrayMemorySize(x):\n",
    "    units = ['B', 'KB', 'MB', 'GB', 'TB']\n",
    "    for i in range(5):\n",
    "        if round(x.nbytes/2**(i * 10), 2) > 1:\n",
    "            unit = units[i]\n",
    "            power = i * 10\n",
    "    print(np.shape(x), 'array')\n",
    "    print(round(x.nbytes/2**power, 2), unit)\n",
    "\n",
    " "
   ]
  },
  {
   "cell_type": "code",
   "execution_count": null,
   "metadata": {},
   "outputs": [],
   "source": []
  }
 ],
 "metadata": {
  "kernelspec": {
   "display_name": "Python 3",
   "language": "python",
   "name": "python3"
  },
  "language_info": {
   "codemirror_mode": {
    "name": "ipython",
    "version": 3
   },
   "file_extension": ".py",
   "mimetype": "text/x-python",
   "name": "python",
   "nbconvert_exporter": "python",
   "pygments_lexer": "ipython3",
   "version": "3.6.8"
  }
 },
 "nbformat": 4,
 "nbformat_minor": 2
}
