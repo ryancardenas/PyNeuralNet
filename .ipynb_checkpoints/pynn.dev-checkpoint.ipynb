{
 "cells": [
  {
   "cell_type": "code",
   "execution_count": 246,
   "metadata": {},
   "outputs": [],
   "source": [
    "import matplotlib.pyplot as plt\n",
    "import numpy as np\n",
    "from IPython.display import clear_output\n",
    "\n",
    "import pyneuralnet"
   ]
  },
  {
   "cell_type": "code",
   "execution_count": 250,
   "metadata": {},
   "outputs": [],
   "source": [
    "class Layer(object):\n",
    "    def __init__(self, num_prev, num_neurons, activation_function='sigmoid'):\n",
    "        '''\n",
    "        Initialize weights randomly with He scaling.\n",
    "        \n",
    "        self.A -- [num_neurons, 1] Array of activations\n",
    "        self.Z -- [num_neurons, 1] Array of linearly aggregated inputs\n",
    "        self.W -- [num_neurons, num_prev] Array of weights applied to previous layer's activations A.\n",
    "        self.b -- [num_neurons, 1] Array of biases\n",
    "        ''' \n",
    "        self.n = num_neurons\n",
    "        self.act = activation_function  \n",
    "        \n",
    "        self.A = np.zeros((num_neurons,1))\n",
    "        self.Z = np.zeros((num_neurons,1))\n",
    "        self.b = np.zeros((self.n,1))\n",
    "        \n",
    "        # He initialization.\n",
    "        if self.act == 'sigmoid':\n",
    "            self.W = np.random.randn(num_neurons, num_prev) * np.sqrt(2.0/num_prev)\n",
    "        \n",
    "    def forward(self, A_prev):\n",
    "        '''\n",
    "        Description:\n",
    "        Perform forward pass by computing Z, then A.\n",
    "        \n",
    "        Parameters:\n",
    "        A_prev -- [num_prev, m_samples] Array of activations from previous layer.\n",
    "        \n",
    "        Computes:\n",
    "        self.A -- [self.n, m_samples] Array of activations for this layer.\n",
    "        '''\n",
    "        self.Z = self.W @ A_prev + self.b\n",
    "        \n",
    "        if self.act == 'linear':\n",
    "            self.A = self.Z\n",
    "            \n",
    "        elif self.act == 'sigmoid':\n",
    "            self.A = 1 / (1 + np.exp(-self.Z))\n",
    "            \n",
    "        return self.A\n",
    "    \n",
    "    def backward(self, W_next, dZ_next, A_prev):\n",
    "        '''\n",
    "        Description:\n",
    "        Compute dA first, then dZ, then dW and db.\n",
    "        \n",
    "        Parameters:\n",
    "        W_next -- [num_next, self.n] Array of weights between this layer and next layer.\n",
    "        dZ_next -- [num_next, m_samples] Array of linear inputs to next layer.\n",
    "        A_prev -- [num_prev,m_samples] Array of activations from previous layer.\n",
    "        \n",
    "        Computes:\n",
    "        self.dA -- [self.n, m_samples] Gradient of cost w.r.t. activations.\n",
    "        self.dZ -- [self.n, m_samples] Gradient of cost w.r.t. linear inputs.\n",
    "        self.dW -- [self.n, num_prev] Gradient of cost w.r.t. weights.\n",
    "        self.db -- [self.n, 1] Gradient of cost w.r.t. biases.\n",
    "        '''        \n",
    "        m = self.A.shape[1]\n",
    "        self.dA = W_next.T @ dZ_next\n",
    "        \n",
    "        if self.act == 'linear':\n",
    "            self.dZ = self.dA\n",
    "            \n",
    "        elif self.act == 'sigmoid':\n",
    "            self.dZ = self.A * (1 - self.A) * self.dA\n",
    "            \n",
    "        self.dW = 1 / m * self.dZ @ A_prev.T\n",
    "        self.db = 1 / m * np.sum(self.dZ, axis=1, keepdims=True)\n",
    "        \n",
    "    def update(self, learning_rate):\n",
    "        self.W = self.W - learning_rate * self.dW\n",
    "        self.b = self.b - learning_rate * self.db\n",
    "\n",
    "\n",
    "def forwardprop(X, network):\n",
    "    L = len(network)\n",
    "    network[0].forward(X)\n",
    "\n",
    "    for i in range(1, L):\n",
    "        network[i].forward(network[i-1].A)\n",
    "    \n",
    "    return network\n",
    "\n",
    "            \n",
    "def computeCost(Y, network, costfunc='logistic'):\n",
    "    # Compute cost\n",
    "    if costfunc == 'logistic':\n",
    "        cost, grad = costLogistic(network[-1].A, Y)\n",
    "    elif costfunc == 'mse':\n",
    "        cost, grad = costMSE(network[-1].A, Y)\n",
    "#     print('Cost: ', costs)\n",
    "    return cost, grad\n",
    "\n",
    "    \n",
    "def backprop(grad, network):\n",
    "    L = len(network)\n",
    "    W_output = np.eye(Y.shape[0], Y.shape[0])\n",
    "    \n",
    "    network[L-1].backward(W_output, grad, network[L-2].A)\n",
    "    \n",
    "    for i in reversed(range(0, L - 1)):\n",
    "        W_next = network[i+1].W\n",
    "        dZ_next = network[i+1].dZ\n",
    "        A_prev = network[i-1].A\n",
    "        network[i].backward(W_next, dZ_next, A_prev)\n",
    "\n",
    "    return network\n",
    "    \n",
    "    \n",
    "def gradientDescent(X, Y, network, num_iterations, learning_rate,\n",
    "                    costfunc='logistic', showprogress='True'):\n",
    "    L = len(network)\n",
    "    costs = np.zeros((num_iterations,k))\n",
    "    \n",
    "    for epoch in range(num_iterations):\n",
    "        network = forwardprop(X, network)\n",
    "        costs[epoch], grad = computeCost(Y, network, costfunc)\n",
    "        network = backprop(grad, network)\n",
    "        \n",
    "        # Perform one step of gradient descent\n",
    "        for i in range(1, L):\n",
    "            network[i].update(learning_rate)\n",
    "        \n",
    "        if showprogress == 'True':\n",
    "            update_progress(epoch/num_iterations)\n",
    "        \n",
    "    if showprogress == 'True':\n",
    "        update_progress(1)   \n",
    "        \n",
    "    return network, costs\n",
    "\n",
    "\n",
    "def predict(X, Y, network):\n",
    "    L = len(network)\n",
    "    k = Y.shape[0]\n",
    "    H = network[-1].A\n",
    "\n",
    "    # Forward propagation\n",
    "    network = forwardprop(X, network)\n",
    "        \n",
    "    # Compute predictions\n",
    "    predicted = np.zeros(network[-1].A.shape)\n",
    "    if network[-1].act == 'sigmoid':\n",
    "        predicted = 1*(H > 0.5)\n",
    "    elif network[-1].act == 'tanh':\n",
    "        predicted = 1*(H > 0)\n",
    "        \n",
    "    tp = np.sum(np.logical_and(a, b))\n",
    "    fp = np.sum(np.logical_and(a, b==0))\n",
    "    tn = np.sum(np.logical_and(a==0, b==0))\n",
    "    fn = np.sum(np.logical_and(a==0, b))\n",
    "\n",
    "    prec = tp / (tp + fp)\n",
    "    rec = tp / (tp + fn)\n",
    "    # Compute accuracy\n",
    "    acc = np.sum(predicted == Y)\n",
    "    \n",
    "    # Compute precision\n",
    "    prec = \n",
    "    \n",
    "#         print('Cost: ', costs[iteration])\n",
    "    return predicted\n",
    "        #####################################\n",
    "    ########################################\n",
    "    #######################################\n"
   ]
  },
  {
   "cell_type": "code",
   "execution_count": 296,
   "metadata": {},
   "outputs": [
    {
     "name": "stdout",
     "output_type": "stream",
     "text": [
      "3\n",
      "2 1 1 0\n",
      "0.6666666666666666 1.0\n"
     ]
    }
   ],
   "source": [
    "a = np.array([[1],\n",
    "              [0],\n",
    "              [1],\n",
    "              [1]])\n",
    "\n",
    "b = np.array([[1],\n",
    "              [0],\n",
    "              [1],\n",
    "              [0]])\n",
    "\n",
    "print(np.sum(a==b))\n",
    "\n",
    "tp = np.sum(np.logical_and(a, b))\n",
    "fp = np.sum(np.logical_and(a, b==0))\n",
    "tn = np.sum(np.logical_and(a==0, b==0))\n",
    "fn = np.sum(np.logical_and(a==0, b))\n",
    "\n",
    "prec = tp / (tp + fp)\n",
    "rec = tp / (tp + fn)\n",
    "print(prec, rec)"
   ]
  },
  {
   "cell_type": "code",
   "execution_count": 251,
   "metadata": {},
   "outputs": [
    {
     "name": "stdout",
     "output_type": "stream",
     "text": [
      "(2, 4)\n"
     ]
    }
   ],
   "source": [
    "filename = 'tests/logic1.csv'\n",
    "X, Y = loadCSVData(filename, skiprow=0)\n",
    "X = X.T\n",
    "Y = Y.T\n",
    "print(X.shape)"
   ]
  },
  {
   "cell_type": "code",
   "execution_count": 265,
   "metadata": {},
   "outputs": [
    {
     "name": "stdout",
     "output_type": "stream",
     "text": [
      "Progress: [####################] 100.0%\n",
      "\n"
     ]
    }
   ],
   "source": [
    "layout = ((2, 'sigmoid'),\n",
    "          (2, 'sigmoid'),\n",
    "          (2, 'sigmoid'),\n",
    "          (1, 'sigmoid'),\n",
    "         ) \n",
    "\n",
    "network = buildNetwork(layout, X.shape[0])\n",
    "\n",
    "num_iterations = 1000\n",
    "learning_rate = 0.01\n",
    "newtork, costs = gradientDescent(X, Y, network, num_iterations, learning_rate,\n",
    "                    costfunc='logistic', showprogress='True')"
   ]
  },
  {
   "cell_type": "code",
   "execution_count": 266,
   "metadata": {},
   "outputs": [
    {
     "data": {
      "image/png": "[encoded data removed]",
      "text/plain": [
       "<Figure size 432x288 with 1 Axes>"
      ]
     },
     "metadata": {
      "needs_background": "light"
     },
     "output_type": "display_data"
    }
   ],
   "source": [
    "plt.plot(costs)\n",
    "plt.show()"
   ]
  },
  {
   "cell_type": "markdown",
   "metadata": {},
   "source": [
    "## Gradient Checking Tool\n"
   ]
  },
  {
   "cell_type": "code",
   "execution_count": 180,
   "metadata": {},
   "outputs": [
    {
     "name": "stdout",
     "output_type": "stream",
     "text": [
      "Input\n",
      " [[0.5881308  0.89771373 0.89153073]\n",
      " [0.81583748 0.03588959 0.69175758]] \n",
      "\n",
      "Correct Answer\n",
      " [[0 1 1]\n",
      " [1 0 0]] \n",
      "\n",
      "Output\n",
      " [[0.36992296]\n",
      " [0.47231943]] \n",
      "\n",
      "Gradient\n",
      " [[0.06411603]\n",
      " [1.0185637 ]] \n",
      "\n",
      "Gradient Check\n",
      " [[0.06411603 0.06411603 0.06411603]\n",
      " [1.0185637  1.0185637  1.0185637 ]]\n"
     ]
    }
   ],
   "source": [
    "def function(H, Y):\n",
    "    m = H.shape[1]\n",
    "    return -1 / m * np.sum(Y * np.log(H) + (1 - Y) * np.log(1 - H), axis=1, keepdims=True)\n",
    "\n",
    "def gradient(H, Y):\n",
    "    m = H.shape[1]\n",
    "    return 1 / m * np.sum(np.divide(-Y, H) + np.divide(1 - Y, 1 - H), axis=1, keepdims=True)\n",
    "\n",
    "np.random.seed(20)\n",
    "Z = np.random.rand(2, 3)\n",
    "print('Input\\n', Z, '\\n')\n",
    "\n",
    "Y = np.array([[0, 1, 1],\n",
    "              [1, 0, 0]])\n",
    "print('Correct Answer\\n', Y, '\\n')\n",
    "\n",
    "A = function(Z, Y)\n",
    "print('Output\\n', A, '\\n')\n",
    "\n",
    "dAdZ = gradient(Z, Y)\n",
    "print('Gradient\\n', dAdZ, '\\n')\n",
    "\n",
    "eps = 1e-5\n",
    "dAdZ_check = np.zeros(Z.shape)\n",
    "\n",
    "for i in range(Z.shape[0]): \n",
    "    for j in range(Z.shape[1]):\n",
    "        cop = np.copy(Z)\n",
    "        bp[i,j] = cop[i,j] + eps\n",
    "        bn[i,j] = cop[i,j] - eps\n",
    "        plus = function(bp, Y)\n",
    "        minus = function(bn, Y)\n",
    "        dAdZ_check[i,j] = (plus[i] - minus[i]) / (2 * eps)\n",
    "print('Gradient Check\\n', dAdZ_check)"
   ]
  },
  {
   "cell_type": "code",
   "execution_count": null,
   "metadata": {},
   "outputs": [],
   "source": []
  }
 ],
 "metadata": {
  "kernelspec": {
   "display_name": "Python 3",
   "language": "python",
   "name": "python3"
  },
  "language_info": {
   "codemirror_mode": {
    "name": "ipython",
    "version": 3
   },
   "file_extension": ".py",
   "mimetype": "text/x-python",
   "name": "python",
   "nbconvert_exporter": "python",
   "pygments_lexer": "ipython3",
   "version": "3.6.8"
  }
 },
 "nbformat": 4,
 "nbformat_minor": 2
}
